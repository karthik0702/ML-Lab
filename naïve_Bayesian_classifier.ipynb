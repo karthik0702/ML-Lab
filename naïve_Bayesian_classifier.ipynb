{
  "nbformat": 4,
  "nbformat_minor": 0,
  "metadata": {
    "colab": {
      "name": "naïve Bayesian classifier.ipynb",
      "provenance": [],
      "authorship_tag": "ABX9TyPhAZAUNBX+cdsw+oFN/BVo",
      "include_colab_link": true
    },
    "kernelspec": {
      "name": "python3",
      "display_name": "Python 3"
    },
    "language_info": {
      "name": "python"
    }
  },
  "cells": [
    {
      "cell_type": "markdown",
      "metadata": {
        "id": "view-in-github",
        "colab_type": "text"
      },
      "source": [
        "<a href=\"https://colab.research.google.com/github/karthik0702/ML-Lab/blob/main/na%C3%AFve_Bayesian_classifier.ipynb\" target=\"_parent\"><img src=\"https://colab.research.google.com/assets/colab-badge.svg\" alt=\"Open In Colab\"/></a>"
      ]
    },
    {
      "cell_type": "code",
      "metadata": {
        "id": "pPDYJF29dzyE"
      },
      "source": [
        "import pandas as pd\n",
        "from sklearn.model_selection import train_test_split\n",
        "from sklearn.naive_bayes import GaussianNB\n",
        "from sklearn import metrics"
      ],
      "execution_count": null,
      "outputs": []
    },
    {
      "cell_type": "code",
      "metadata": {
        "id": "n7nxMtlJek7J"
      },
      "source": [
        "df = pd.read_csv(\"/content/pima_indian.csv\")\n",
        "feature_col_names = ['num_preg', 'glucose_conc', 'diastolic_bp', 'thickness', 'insulin', 'bmi', 'diab_pred', 'age']\n",
        "predicted_class_names = ['diabetes']\n",
        "\n",
        "X = df[feature_col_names].values # these are factors for the prediction\n",
        "y = df[predicted_class_names].values # this is what we want to predict"
      ],
      "execution_count": null,
      "outputs": []
    },
    {
      "cell_type": "code",
      "metadata": {
        "colab": {
          "base_uri": "https://localhost:8080/"
        },
        "id": "eSw_xEBMe21v",
        "outputId": "0bba2c71-32e0-441b-9a67-4b88c9923d18"
      },
      "source": [
        "#splitting the dataset into train and test data\n",
        "\n",
        "xtrain,xtest,ytrain,ytest=train_test_split(X,y,test_size=0.33)\n",
        "\n",
        "print ('\\n the total number of Training Data :',ytrain.shape)\n",
        "print ('\\n the total number of Test Data :',ytest.shape)"
      ],
      "execution_count": null,
      "outputs": [
        {
          "output_type": "stream",
          "text": [
            "\n",
            " the total number of Training Data : (514, 1)\n",
            "\n",
            " the total number of Test Data : (254, 1)\n"
          ],
          "name": "stdout"
        }
      ]
    },
    {
      "cell_type": "code",
      "metadata": {
        "id": "pxfd6sIge6lk"
      },
      "source": [
        "# Training Naive Bayes (NB) classifier on training data.\n",
        "\n",
        "clf = GaussianNB().fit(xtrain,ytrain.ravel())\n",
        "predicted = clf.predict(xtest)\n",
        "predictTestData= clf.predict([[6,148,72,35,0,33.6,0.627,50]])"
      ],
      "execution_count": null,
      "outputs": []
    },
    {
      "cell_type": "code",
      "metadata": {
        "colab": {
          "base_uri": "https://localhost:8080/"
        },
        "id": "8s4oU8j9e8ls",
        "outputId": "9d73b26a-c65e-449c-9990-5d9f4ef8ba6f"
      },
      "source": [
        "#printing Confusion matrix, accuracy, Precision and Recall\n",
        "\n",
        "print('\\n Confusion matrix')\n",
        "print(metrics.confusion_matrix(ytest,predicted))\n",
        "\n",
        "print('\\n Accuracy of the classifier is',metrics.accuracy_score(ytest,predicted))\n",
        "\n",
        "print('\\n The value of Precision', metrics.precision_score(ytest,predicted))\n",
        "\n",
        "print('\\n The value of Recall', metrics.recall_score(ytest,predicted))\n",
        "\n",
        "print(\"Predicted Value for individual Test Data:\", predictTestData)"
      ],
      "execution_count": null,
      "outputs": [
        {
          "output_type": "stream",
          "text": [
            "\n",
            " Confusion matrix\n",
            "[[126  31]\n",
            " [ 39  58]]\n",
            "\n",
            " Accuracy of the classifier is 0.7244094488188977\n",
            "\n",
            " The value of Precision 0.651685393258427\n",
            "\n",
            " The value of Recall 0.5979381443298969\n",
            "Predicted Value for individual Test Data: [1]\n"
          ],
          "name": "stdout"
        }
      ]
    }
  ]
}